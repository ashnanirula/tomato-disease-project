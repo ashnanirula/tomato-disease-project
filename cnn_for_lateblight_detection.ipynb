{
  "nbformat": 4,
  "nbformat_minor": 0,
  "metadata": {
    "colab": {
      "provenance": []
    },
    "kernelspec": {
      "name": "python3",
      "display_name": "Python 3"
    },
    "language_info": {
      "name": "python"
    },
    "accelerator": "GPU",
    "gpuClass": "standard"
  },
  "cells": [
    {
      "cell_type": "code",
      "execution_count": null,
      "metadata": {
        "id": "elVeqZ6zjoI4"
      },
      "outputs": [],
      "source": [
        "#importing packages\n",
        "import os\n",
        "import numpy as np\n",
        "import glob\n",
        "import shutil\n",
        "import matplotlib.pyplot as plt\n",
        "import pandas as pd"
      ]
    },
    {
      "cell_type": "code",
      "source": [
        "#importing tensoflow (gets its own section)\n",
        "import tensorflow as tf"
      ],
      "metadata": {
        "id": "c_szdXwIjwme"
      },
      "execution_count": null,
      "outputs": []
    },
    {
      "cell_type": "code",
      "source": [
        "#import tensorflow utilities\n",
        "from keras.models import Sequential\n",
        "from keras.layers import Dense, Conv2D, Flatten, Dropout, MaxPooling2D, BatchNormalization\n",
        "from keras.preprocessing.image import ImageDataGenerator as IDG"
      ],
      "metadata": {
        "id": "Y3kvgJlKj05W"
      },
      "execution_count": null,
      "outputs": []
    },
    {
      "cell_type": "code",
      "source": [
        "#mount drive\n",
        "from google.colab import drive\n",
        "drive.mount('/content/drive')"
      ],
      "metadata": {
        "colab": {
          "base_uri": "https://localhost:8080/"
        },
        "id": "8ZwUUgY3d1t8",
        "outputId": "ff0ba71f-29f4-4096-98d8-7aed37d4fea2"
      },
      "execution_count": 2,
      "outputs": [
        {
          "output_type": "stream",
          "name": "stdout",
          "text": [
            "Mounted at /content/drive\n"
          ]
        }
      ]
    },
    {
      "cell_type": "code",
      "source": [
        "#importing dataset\n",
        "!unzip \"/content/drive/MyDrive/Programming/replicate_1_project/tomato_dataset.zip\""
      ],
      "metadata": {
        "id": "mMvPHo5ebppe"
      },
      "execution_count": null,
      "outputs": []
    },
    {
      "cell_type": "code",
      "source": [
        "#setting the directory variables\n",
        "base_dir = os.path.dirname('/content/tomato_dataset')\n",
        "train_dir = os.path.dirname('/content/tomato_dataset/train')\n",
        "val_dir = os.path.dirname('/content/tomato_dataset/val')"
      ],
      "metadata": {
        "id": "mnFq43IDnBjG"
      },
      "execution_count": null,
      "outputs": []
    },
    {
      "cell_type": "code",
      "source": [
        "#setting the class variables (training and validation)\n",
        "train_healthy_dir = os.path.join('/content/tomato_dataset/train/healthy')\n",
        "train_blight_dir = os.path.join('/content/tomato_dataset/train/Late_blight')\n",
        "val_healthy_dir = os.path.join('/content/tomato_dataset/val/healthy')\n",
        "val_blight_dir = os.path.join('/content/tomato_dataset/val/Late_blight')"
      ],
      "metadata": {
        "id": "KvRo4V1Rc9er"
      },
      "execution_count": null,
      "outputs": []
    },
    {
      "cell_type": "code",
      "source": [
        "#exploring and getting an idea of data size\n",
        "num_tr_healthy = len(os.listdir(train_healthy_dir))\n",
        "num_tr_blight = len(os.listdir(train_blight_dir))\n",
        "\n",
        "num_val_healthy = len(os.listdir(val_healthy_dir))\n",
        "num_val_blight = len(os.listdir(val_blight_dir))\n",
        "\n",
        "print('total healthy training images: ', num_tr_healthy)\n",
        "print('total diseased training images: ', num_tr_blight)\n",
        "print(' ')\n",
        "print('total healthy validation images: ', num_val_healthy)\n",
        "print('total diseased validation images: ', num_val_blight)"
      ],
      "metadata": {
        "colab": {
          "base_uri": "https://localhost:8080/"
        },
        "id": "bYxZBzf6dasm",
        "outputId": "42eddeda-b608-4958-996b-7a86f252873f"
      },
      "execution_count": null,
      "outputs": [
        {
          "output_type": "stream",
          "name": "stdout",
          "text": [
            "total healthy training images:  3051\n",
            "total diseased training images:  3113\n",
            " \n",
            "total healthy validation images:  806\n",
            "total diseased validation images:  792\n"
          ]
        }
      ]
    },
    {
      "cell_type": "code",
      "source": [
        "#setting batch size and img shape for later use\n",
        "BATCH_SIZE = 1000\n",
        "IMG_SHAPE = 150"
      ],
      "metadata": {
        "id": "ghnuP4R0mnYu"
      },
      "execution_count": null,
      "outputs": []
    },
    {
      "cell_type": "code",
      "source": [
        "#mitigating overfitting by resizing and transforming train data\n",
        "image_gen_train = IDG (rescale=1./255, \n",
        "                 rotation_range=45,\n",
        "                 width_shift_range=.15,\n",
        "                 height_shift_range=.15,\n",
        "                 horizontal_flip=True,\n",
        "                 zoom_range=0.5)\n",
        "\n",
        "train_data_gen = image_gen_train.flow_from_directory(batch_size=BATCH_SIZE,\n",
        "                                                     directory= '/content/tomato_dataset/train',\n",
        "                                                     shuffle=True,\n",
        "                                                     target_size=(IMG_SHAPE, IMG_SHAPE),\n",
        "                                                     class_mode='sparse'\n",
        "                                                     )"
      ],
      "metadata": {
        "id": "sq84DXcEmq76",
        "colab": {
          "base_uri": "https://localhost:8080/"
        },
        "outputId": "48622699-7493-4f52-f5ba-a28ac796174a"
      },
      "execution_count": null,
      "outputs": [
        {
          "output_type": "stream",
          "name": "stdout",
          "text": [
            "Found 6164 images belonging to 2 classes.\n"
          ]
        }
      ]
    },
    {
      "cell_type": "code",
      "source": [
        "#resizing and prepping validation data\n",
        "image_gen_val = IDG(rescale=1./255)\n",
        "\n",
        "val_data_gen = image_gen_val.flow_from_directory(batch_size=BATCH_SIZE,\n",
        "                                                 directory='/content/tomato_dataset/val',\n",
        "                                                 target_size=(IMG_SHAPE, IMG_SHAPE),\n",
        "                                                 class_mode='sparse'\n",
        "                                                  )"
      ],
      "metadata": {
        "id": "WkPGHcngomdH",
        "colab": {
          "base_uri": "https://localhost:8080/"
        },
        "outputId": "12c2a684-d143-4d12-c41e-9b06ee0c74f1"
      },
      "execution_count": null,
      "outputs": [
        {
          "output_type": "stream",
          "name": "stdout",
          "text": [
            "Found 1598 images belonging to 2 classes.\n"
          ]
        }
      ]
    },
    {
      "cell_type": "code",
      "source": [
        "#building + defining the model!\n",
        "model = Sequential()\n",
        "\n",
        "model.add(Conv2D(32, (3,3), padding='same', activation='relu', input_shape=(IMG_SHAPE, IMG_SHAPE, 3)))\n",
        "model.add(MaxPooling2D(pool_size=(2,2)))\n",
        "\n",
        "model.add(Conv2D(64, (3,3), padding='same', activation='relu'))\n",
        "model.add(MaxPooling2D(pool_size=(2, 2)))\n",
        "\n",
        "model.add(Conv2D(128, (3,3), padding='same', activation='relu'))\n",
        "model.add(MaxPooling2D(pool_size=(2, 2)))\n",
        "\n",
        "model.add(Conv2D(128, (3,3), padding='same', activation='relu'))\n",
        "model.add(MaxPooling2D(pool_size=(2, 2)))\n",
        "\n",
        "model.add(Flatten())\n",
        "model.add(Dropout(0.5))\n",
        "model.add(Dense(512,activation='relu'))\n",
        "model.add(Dense(2))"
      ],
      "metadata": {
        "id": "brO8y8J7o6Um"
      },
      "execution_count": null,
      "outputs": []
    },
    {
      "cell_type": "code",
      "source": [
        "#compiling the model with optimizer adam\n",
        "model.compile(optimizer='adam',\n",
        "              loss=tf.keras.losses.SparseCategoricalCrossentropy(from_logits=True),\n",
        "              metrics=['accuracy'])"
      ],
      "metadata": {
        "id": "llFWpzy2s5BU"
      },
      "execution_count": null,
      "outputs": []
    },
    {
      "cell_type": "code",
      "source": [
        "#time to train the model!\n",
        "\n",
        "from PIL import ImageFile\n",
        "ImageFile.LOAD_TRUNCATED_IMAGES = True\n",
        "\n",
        "epochs = 120\n",
        "\n",
        "history = model.fit_generator(\n",
        "    train_data_gen,\n",
        "    steps_per_epoch=int(np.ceil(train_data_gen.n / float(BATCH_SIZE))),\n",
        "    epochs=epochs,\n",
        "    validation_data=val_data_gen,\n",
        "    validation_steps=int(np.ceil(val_data_gen.n / float(BATCH_SIZE)))\n",
        ")"
      ],
      "metadata": {
        "id": "2AWvS1FRs8Dw",
        "colab": {
          "base_uri": "https://localhost:8080/"
        },
        "outputId": "bae3a53f-cb6b-46a4-95a8-ab2140a96703"
      },
      "execution_count": null,
      "outputs": [
        {
          "output_type": "stream",
          "name": "stderr",
          "text": [
            "<ipython-input-44-64baa1d907d1>:8: UserWarning: `Model.fit_generator` is deprecated and will be removed in a future version. Please use `Model.fit`, which supports generators.\n",
            "  history = model.fit_generator(\n"
          ]
        },
        {
          "output_type": "stream",
          "name": "stdout",
          "text": [
            "Epoch 1/120\n",
            "7/7 [==============================] - 52s 7s/step - loss: 0.6501 - accuracy: 0.5787 - val_loss: 0.6307 - val_accuracy: 0.6039\n",
            "Epoch 2/120\n",
            "7/7 [==============================] - 51s 7s/step - loss: 0.6128 - accuracy: 0.6609 - val_loss: 0.6826 - val_accuracy: 0.5645\n",
            "Epoch 3/120\n",
            "7/7 [==============================] - 52s 7s/step - loss: 0.6447 - accuracy: 0.6014 - val_loss: 0.6220 - val_accuracy: 0.6083\n",
            "Epoch 4/120\n",
            "7/7 [==============================] - 52s 7s/step - loss: 0.5961 - accuracy: 0.6640 - val_loss: 0.5300 - val_accuracy: 0.7854\n",
            "Epoch 5/120\n",
            "7/7 [==============================] - 51s 8s/step - loss: 0.4897 - accuracy: 0.7839 - val_loss: 0.8171 - val_accuracy: 0.5770\n",
            "Epoch 6/120\n",
            "7/7 [==============================] - 52s 7s/step - loss: 0.7239 - accuracy: 0.6334 - val_loss: 0.5940 - val_accuracy: 0.6151\n",
            "Epoch 7/120\n",
            "7/7 [==============================] - 53s 8s/step - loss: 0.5961 - accuracy: 0.6520 - val_loss: 0.5856 - val_accuracy: 0.7860\n",
            "Epoch 8/120\n",
            "7/7 [==============================] - 52s 7s/step - loss: 0.5712 - accuracy: 0.7928 - val_loss: 0.5160 - val_accuracy: 0.8116\n",
            "Epoch 9/120\n",
            "7/7 [==============================] - 52s 7s/step - loss: 0.4705 - accuracy: 0.8374 - val_loss: 0.4334 - val_accuracy: 0.8066\n",
            "Epoch 10/120\n",
            "7/7 [==============================] - 53s 7s/step - loss: 0.3877 - accuracy: 0.8464 - val_loss: 0.3603 - val_accuracy: 0.8586\n",
            "Epoch 11/120\n",
            "7/7 [==============================] - 52s 9s/step - loss: 0.3770 - accuracy: 0.8363 - val_loss: 0.4304 - val_accuracy: 0.8185\n",
            "Epoch 12/120\n",
            "7/7 [==============================] - 51s 7s/step - loss: 0.3535 - accuracy: 0.8540 - val_loss: 0.3283 - val_accuracy: 0.8617\n",
            "Epoch 13/120\n",
            "7/7 [==============================] - 52s 7s/step - loss: 0.3385 - accuracy: 0.8616 - val_loss: 0.5132 - val_accuracy: 0.7334\n",
            "Epoch 14/120\n",
            "7/7 [==============================] - 52s 7s/step - loss: 0.3132 - accuracy: 0.8726 - val_loss: 0.5236 - val_accuracy: 0.7666\n",
            "Epoch 15/120\n",
            "7/7 [==============================] - 52s 8s/step - loss: 0.2869 - accuracy: 0.8830 - val_loss: 0.3309 - val_accuracy: 0.8573\n",
            "Epoch 16/120\n",
            "7/7 [==============================] - 51s 7s/step - loss: 0.2608 - accuracy: 0.8997 - val_loss: 0.3939 - val_accuracy: 0.8385\n",
            "Epoch 17/120\n",
            "7/7 [==============================] - 52s 7s/step - loss: 0.2435 - accuracy: 0.9048 - val_loss: 0.3234 - val_accuracy: 0.8755\n",
            "Epoch 18/120\n",
            "7/7 [==============================] - 52s 7s/step - loss: 0.2361 - accuracy: 0.9096 - val_loss: 0.3407 - val_accuracy: 0.8586\n",
            "Epoch 19/120\n",
            "7/7 [==============================] - 51s 7s/step - loss: 0.2375 - accuracy: 0.9088 - val_loss: 0.2404 - val_accuracy: 0.9061\n",
            "Epoch 20/120\n",
            "7/7 [==============================] - 52s 7s/step - loss: 0.2148 - accuracy: 0.9187 - val_loss: 0.3679 - val_accuracy: 0.8567\n",
            "Epoch 21/120\n",
            "7/7 [==============================] - 52s 7s/step - loss: 0.2248 - accuracy: 0.9145 - val_loss: 0.2205 - val_accuracy: 0.9130\n",
            "Epoch 22/120\n",
            "7/7 [==============================] - 51s 7s/step - loss: 0.2045 - accuracy: 0.9190 - val_loss: 0.2861 - val_accuracy: 0.8942\n",
            "Epoch 23/120\n",
            "7/7 [==============================] - 51s 7s/step - loss: 0.2120 - accuracy: 0.9199 - val_loss: 0.2583 - val_accuracy: 0.9011\n",
            "Epoch 24/120\n",
            "7/7 [==============================] - 53s 7s/step - loss: 0.1978 - accuracy: 0.9236 - val_loss: 0.2788 - val_accuracy: 0.8955\n",
            "Epoch 25/120\n",
            "7/7 [==============================] - 50s 7s/step - loss: 0.1929 - accuracy: 0.9286 - val_loss: 0.1838 - val_accuracy: 0.9324\n",
            "Epoch 26/120\n",
            "7/7 [==============================] - 51s 7s/step - loss: 0.1791 - accuracy: 0.9332 - val_loss: 0.2631 - val_accuracy: 0.9011\n",
            "Epoch 27/120\n",
            "7/7 [==============================] - 52s 7s/step - loss: 0.2088 - accuracy: 0.9218 - val_loss: 0.2474 - val_accuracy: 0.9043\n",
            "Epoch 28/120\n",
            "7/7 [==============================] - 52s 7s/step - loss: 0.1795 - accuracy: 0.9346 - val_loss: 0.2535 - val_accuracy: 0.9024\n",
            "Epoch 29/120\n",
            "7/7 [==============================] - 53s 7s/step - loss: 0.1664 - accuracy: 0.9359 - val_loss: 0.2470 - val_accuracy: 0.9011\n",
            "Epoch 30/120\n",
            "7/7 [==============================] - 54s 9s/step - loss: 0.1544 - accuracy: 0.9419 - val_loss: 0.2261 - val_accuracy: 0.9030\n",
            "Epoch 31/120\n",
            "7/7 [==============================] - 52s 7s/step - loss: 0.1488 - accuracy: 0.9442 - val_loss: 0.1694 - val_accuracy: 0.9305\n",
            "Epoch 32/120\n",
            "7/7 [==============================] - 51s 8s/step - loss: 0.1509 - accuracy: 0.9442 - val_loss: 0.1680 - val_accuracy: 0.9337\n",
            "Epoch 33/120\n",
            "7/7 [==============================] - 52s 7s/step - loss: 0.1664 - accuracy: 0.9340 - val_loss: 0.1320 - val_accuracy: 0.9487\n",
            "Epoch 34/120\n",
            "7/7 [==============================] - 53s 7s/step - loss: 0.1695 - accuracy: 0.9312 - val_loss: 0.2339 - val_accuracy: 0.9130\n",
            "Epoch 35/120\n",
            "7/7 [==============================] - 52s 7s/step - loss: 0.1824 - accuracy: 0.9281 - val_loss: 0.4563 - val_accuracy: 0.8636\n",
            "Epoch 36/120\n",
            "7/7 [==============================] - 53s 8s/step - loss: 0.1636 - accuracy: 0.9395 - val_loss: 0.2054 - val_accuracy: 0.9136\n",
            "Epoch 37/120\n",
            "7/7 [==============================] - 53s 9s/step - loss: 0.1328 - accuracy: 0.9525 - val_loss: 0.1770 - val_accuracy: 0.9280\n",
            "Epoch 38/120\n",
            "7/7 [==============================] - 51s 7s/step - loss: 0.1336 - accuracy: 0.9505 - val_loss: 0.2296 - val_accuracy: 0.9111\n",
            "Epoch 39/120\n",
            "7/7 [==============================] - 51s 7s/step - loss: 0.1445 - accuracy: 0.9466 - val_loss: 0.3055 - val_accuracy: 0.8892\n",
            "Epoch 40/120\n",
            "7/7 [==============================] - 54s 9s/step - loss: 0.1365 - accuracy: 0.9486 - val_loss: 0.1976 - val_accuracy: 0.9243\n",
            "Epoch 41/120\n",
            "7/7 [==============================] - 56s 8s/step - loss: 0.1132 - accuracy: 0.9564 - val_loss: 0.1495 - val_accuracy: 0.9406\n",
            "Epoch 42/120\n",
            "7/7 [==============================] - 52s 7s/step - loss: 0.1089 - accuracy: 0.9573 - val_loss: 0.1472 - val_accuracy: 0.9437\n",
            "Epoch 43/120\n",
            "7/7 [==============================] - 54s 8s/step - loss: 0.1123 - accuracy: 0.9593 - val_loss: 0.2931 - val_accuracy: 0.8955\n",
            "Epoch 44/120\n",
            "7/7 [==============================] - 51s 7s/step - loss: 0.1141 - accuracy: 0.9565 - val_loss: 0.1038 - val_accuracy: 0.9599\n",
            "Epoch 45/120\n",
            "7/7 [==============================] - 51s 7s/step - loss: 0.1156 - accuracy: 0.9570 - val_loss: 0.1531 - val_accuracy: 0.9431\n",
            "Epoch 46/120\n",
            "7/7 [==============================] - 54s 8s/step - loss: 0.1036 - accuracy: 0.9620 - val_loss: 0.1879 - val_accuracy: 0.9305\n",
            "Epoch 47/120\n",
            "7/7 [==============================] - 51s 7s/step - loss: 0.1056 - accuracy: 0.9564 - val_loss: 0.1252 - val_accuracy: 0.9524\n",
            "Epoch 48/120\n",
            "7/7 [==============================] - 51s 7s/step - loss: 0.1007 - accuracy: 0.9612 - val_loss: 0.1645 - val_accuracy: 0.9374\n",
            "Epoch 49/120\n",
            "7/7 [==============================] - 53s 7s/step - loss: 0.0937 - accuracy: 0.9633 - val_loss: 0.2076 - val_accuracy: 0.9262\n",
            "Epoch 50/120\n",
            "7/7 [==============================] - 53s 7s/step - loss: 0.0802 - accuracy: 0.9680 - val_loss: 0.1380 - val_accuracy: 0.9481\n",
            "Epoch 51/120\n",
            "7/7 [==============================] - 51s 7s/step - loss: 0.0856 - accuracy: 0.9669 - val_loss: 0.1848 - val_accuracy: 0.9362\n",
            "Epoch 52/120\n",
            "7/7 [==============================] - 51s 7s/step - loss: 0.0909 - accuracy: 0.9680 - val_loss: 0.2377 - val_accuracy: 0.9318\n",
            "Epoch 53/120\n",
            "7/7 [==============================] - 54s 8s/step - loss: 0.0846 - accuracy: 0.9680 - val_loss: 0.0933 - val_accuracy: 0.9700\n",
            "Epoch 54/120\n",
            "7/7 [==============================] - 51s 8s/step - loss: 0.0803 - accuracy: 0.9714 - val_loss: 0.2072 - val_accuracy: 0.9343\n",
            "Epoch 55/120\n",
            "7/7 [==============================] - 51s 7s/step - loss: 0.0759 - accuracy: 0.9705 - val_loss: 0.2084 - val_accuracy: 0.9387\n",
            "Epoch 56/120\n",
            "7/7 [==============================] - 53s 8s/step - loss: 0.0904 - accuracy: 0.9659 - val_loss: 0.1884 - val_accuracy: 0.9374\n",
            "Epoch 57/120\n",
            "7/7 [==============================] - 53s 8s/step - loss: 0.0709 - accuracy: 0.9727 - val_loss: 0.0899 - val_accuracy: 0.9675\n",
            "Epoch 58/120\n",
            "7/7 [==============================] - 51s 7s/step - loss: 0.0715 - accuracy: 0.9727 - val_loss: 0.1329 - val_accuracy: 0.9537\n",
            "Epoch 59/120\n",
            "7/7 [==============================] - 52s 8s/step - loss: 0.0641 - accuracy: 0.9747 - val_loss: 0.1062 - val_accuracy: 0.9625\n",
            "Epoch 60/120\n",
            "7/7 [==============================] - 54s 8s/step - loss: 0.0853 - accuracy: 0.9684 - val_loss: 0.0599 - val_accuracy: 0.9812\n",
            "Epoch 61/120\n",
            "7/7 [==============================] - 51s 7s/step - loss: 0.0985 - accuracy: 0.9635 - val_loss: 0.3124 - val_accuracy: 0.9061\n",
            "Epoch 62/120\n",
            "7/7 [==============================] - 51s 8s/step - loss: 0.1224 - accuracy: 0.9518 - val_loss: 0.1494 - val_accuracy: 0.9562\n",
            "Epoch 63/120\n",
            "7/7 [==============================] - 52s 7s/step - loss: 0.0976 - accuracy: 0.9654 - val_loss: 0.1043 - val_accuracy: 0.9618\n",
            "Epoch 64/120\n",
            "7/7 [==============================] - 52s 7s/step - loss: 0.0832 - accuracy: 0.9674 - val_loss: 0.1374 - val_accuracy: 0.9493\n",
            "Epoch 65/120\n",
            "7/7 [==============================] - 51s 7s/step - loss: 0.0712 - accuracy: 0.9740 - val_loss: 0.0820 - val_accuracy: 0.9718\n",
            "Epoch 66/120\n",
            "7/7 [==============================] - 51s 7s/step - loss: 0.0680 - accuracy: 0.9734 - val_loss: 0.1732 - val_accuracy: 0.9380\n",
            "Epoch 67/120\n",
            "7/7 [==============================] - 54s 9s/step - loss: 0.0682 - accuracy: 0.9732 - val_loss: 0.0724 - val_accuracy: 0.9743\n",
            "Epoch 68/120\n",
            "7/7 [==============================] - 52s 7s/step - loss: 0.0624 - accuracy: 0.9768 - val_loss: 0.1548 - val_accuracy: 0.9443\n",
            "Epoch 69/120\n",
            "7/7 [==============================] - 52s 7s/step - loss: 0.0552 - accuracy: 0.9817 - val_loss: 0.0885 - val_accuracy: 0.9700\n",
            "Epoch 70/120\n",
            "7/7 [==============================] - 53s 7s/step - loss: 0.0519 - accuracy: 0.9805 - val_loss: 0.1889 - val_accuracy: 0.9412\n",
            "Epoch 71/120\n",
            "7/7 [==============================] - 52s 7s/step - loss: 0.0707 - accuracy: 0.9749 - val_loss: 0.1600 - val_accuracy: 0.9481\n",
            "Epoch 72/120\n",
            "7/7 [==============================] - 51s 8s/step - loss: 0.0580 - accuracy: 0.9796 - val_loss: 0.0845 - val_accuracy: 0.9756\n",
            "Epoch 73/120\n",
            "7/7 [==============================] - 51s 8s/step - loss: 0.0536 - accuracy: 0.9786 - val_loss: 0.1203 - val_accuracy: 0.9543\n",
            "Epoch 74/120\n",
            "7/7 [==============================] - 54s 8s/step - loss: 0.0508 - accuracy: 0.9826 - val_loss: 0.0861 - val_accuracy: 0.9731\n",
            "Epoch 75/120\n",
            "7/7 [==============================] - 51s 7s/step - loss: 0.0498 - accuracy: 0.9807 - val_loss: 0.0892 - val_accuracy: 0.9725\n",
            "Epoch 76/120\n",
            "7/7 [==============================] - 51s 8s/step - loss: 0.0467 - accuracy: 0.9833 - val_loss: 0.1197 - val_accuracy: 0.9581\n",
            "Epoch 77/120\n",
            "7/7 [==============================] - 52s 7s/step - loss: 0.0533 - accuracy: 0.9797 - val_loss: 0.0970 - val_accuracy: 0.9693\n",
            "Epoch 78/120\n",
            "7/7 [==============================] - 52s 7s/step - loss: 0.0492 - accuracy: 0.9833 - val_loss: 0.0852 - val_accuracy: 0.9643\n",
            "Epoch 79/120\n",
            "7/7 [==============================] - 51s 7s/step - loss: 0.0552 - accuracy: 0.9812 - val_loss: 0.0863 - val_accuracy: 0.9737\n",
            "Epoch 80/120\n",
            "7/7 [==============================] - 51s 7s/step - loss: 0.0511 - accuracy: 0.9822 - val_loss: 0.0586 - val_accuracy: 0.9806\n",
            "Epoch 81/120\n",
            "7/7 [==============================] - 52s 7s/step - loss: 0.0474 - accuracy: 0.9831 - val_loss: 0.1147 - val_accuracy: 0.9675\n",
            "Epoch 82/120\n",
            "7/7 [==============================] - 52s 7s/step - loss: 0.0476 - accuracy: 0.9815 - val_loss: 0.0884 - val_accuracy: 0.9712\n",
            "Epoch 83/120\n",
            "7/7 [==============================] - 51s 7s/step - loss: 0.0536 - accuracy: 0.9804 - val_loss: 0.1357 - val_accuracy: 0.9556\n",
            "Epoch 84/120\n",
            "7/7 [==============================] - 51s 7s/step - loss: 0.0535 - accuracy: 0.9817 - val_loss: 0.1055 - val_accuracy: 0.9618\n",
            "Epoch 85/120\n",
            "7/7 [==============================] - 52s 7s/step - loss: 0.0502 - accuracy: 0.9805 - val_loss: 0.1249 - val_accuracy: 0.9606\n",
            "Epoch 86/120\n",
            "7/7 [==============================] - 52s 7s/step - loss: 0.0550 - accuracy: 0.9799 - val_loss: 0.1114 - val_accuracy: 0.9637\n",
            "Epoch 87/120\n",
            "7/7 [==============================] - 51s 8s/step - loss: 0.0526 - accuracy: 0.9822 - val_loss: 0.0739 - val_accuracy: 0.9787\n",
            "Epoch 88/120\n",
            "7/7 [==============================] - 51s 7s/step - loss: 0.0518 - accuracy: 0.9807 - val_loss: 0.1149 - val_accuracy: 0.9581\n",
            "Epoch 89/120\n",
            "7/7 [==============================] - 52s 8s/step - loss: 0.0715 - accuracy: 0.9729 - val_loss: 0.1279 - val_accuracy: 0.9543\n",
            "Epoch 90/120\n",
            "7/7 [==============================] - 54s 8s/step - loss: 0.0623 - accuracy: 0.9770 - val_loss: 0.0738 - val_accuracy: 0.9743\n",
            "Epoch 91/120\n",
            "7/7 [==============================] - 51s 7s/step - loss: 0.0538 - accuracy: 0.9825 - val_loss: 0.1336 - val_accuracy: 0.9562\n",
            "Epoch 92/120\n",
            "7/7 [==============================] - 52s 7s/step - loss: 0.0432 - accuracy: 0.9841 - val_loss: 0.0717 - val_accuracy: 0.9768\n",
            "Epoch 93/120\n",
            "7/7 [==============================] - 53s 7s/step - loss: 0.0391 - accuracy: 0.9851 - val_loss: 0.0964 - val_accuracy: 0.9656\n",
            "Epoch 94/120\n",
            "7/7 [==============================] - 52s 7s/step - loss: 0.0401 - accuracy: 0.9854 - val_loss: 0.0622 - val_accuracy: 0.9793\n",
            "Epoch 95/120\n",
            "7/7 [==============================] - 51s 7s/step - loss: 0.0410 - accuracy: 0.9852 - val_loss: 0.1581 - val_accuracy: 0.9518\n",
            "Epoch 96/120\n",
            "7/7 [==============================] - 51s 8s/step - loss: 0.0429 - accuracy: 0.9825 - val_loss: 0.1487 - val_accuracy: 0.9499\n",
            "Epoch 97/120\n",
            "7/7 [==============================] - 54s 9s/step - loss: 0.0418 - accuracy: 0.9859 - val_loss: 0.0883 - val_accuracy: 0.9750\n",
            "Epoch 98/120\n",
            "7/7 [==============================] - 51s 7s/step - loss: 0.0434 - accuracy: 0.9839 - val_loss: 0.0479 - val_accuracy: 0.9850\n",
            "Epoch 99/120\n",
            "7/7 [==============================] - 51s 7s/step - loss: 0.0409 - accuracy: 0.9848 - val_loss: 0.0710 - val_accuracy: 0.9750\n",
            "Epoch 100/120\n",
            "7/7 [==============================] - 53s 9s/step - loss: 0.0453 - accuracy: 0.9817 - val_loss: 0.0944 - val_accuracy: 0.9687\n",
            "Epoch 101/120\n",
            "7/7 [==============================] - 52s 7s/step - loss: 0.0460 - accuracy: 0.9833 - val_loss: 0.0502 - val_accuracy: 0.9850\n",
            "Epoch 102/120\n",
            "7/7 [==============================] - 51s 8s/step - loss: 0.0490 - accuracy: 0.9797 - val_loss: 0.0592 - val_accuracy: 0.9837\n",
            "Epoch 103/120\n",
            "7/7 [==============================] - 51s 7s/step - loss: 0.0448 - accuracy: 0.9835 - val_loss: 0.0947 - val_accuracy: 0.9725\n",
            "Epoch 104/120\n",
            "7/7 [==============================] - 53s 8s/step - loss: 0.0436 - accuracy: 0.9849 - val_loss: 0.0662 - val_accuracy: 0.9750\n",
            "Epoch 105/120\n",
            "7/7 [==============================] - 51s 7s/step - loss: 0.0387 - accuracy: 0.9851 - val_loss: 0.1404 - val_accuracy: 0.9556\n",
            "Epoch 106/120\n",
            "7/7 [==============================] - 51s 8s/step - loss: 0.0428 - accuracy: 0.9839 - val_loss: 0.1967 - val_accuracy: 0.9474\n",
            "Epoch 107/120\n",
            "7/7 [==============================] - 51s 7s/step - loss: 0.0380 - accuracy: 0.9867 - val_loss: 0.1198 - val_accuracy: 0.9606\n",
            "Epoch 108/120\n",
            "7/7 [==============================] - 53s 7s/step - loss: 0.0408 - accuracy: 0.9835 - val_loss: 0.0816 - val_accuracy: 0.9750\n",
            "Epoch 109/120\n",
            "7/7 [==============================] - 51s 7s/step - loss: 0.0411 - accuracy: 0.9862 - val_loss: 0.0507 - val_accuracy: 0.9850\n",
            "Epoch 110/120\n",
            "7/7 [==============================] - 51s 7s/step - loss: 0.0428 - accuracy: 0.9852 - val_loss: 0.0690 - val_accuracy: 0.9775\n",
            "Epoch 111/120\n",
            "7/7 [==============================] - 52s 7s/step - loss: 0.0450 - accuracy: 0.9841 - val_loss: 0.1529 - val_accuracy: 0.9587\n",
            "Epoch 112/120\n",
            "7/7 [==============================] - 52s 7s/step - loss: 0.0399 - accuracy: 0.9857 - val_loss: 0.0835 - val_accuracy: 0.9743\n",
            "Epoch 113/120\n",
            "7/7 [==============================] - 51s 7s/step - loss: 0.0347 - accuracy: 0.9859 - val_loss: 0.0774 - val_accuracy: 0.9743\n",
            "Epoch 114/120\n",
            "7/7 [==============================] - 52s 7s/step - loss: 0.0366 - accuracy: 0.9870 - val_loss: 0.0707 - val_accuracy: 0.9819\n",
            "Epoch 115/120\n",
            "7/7 [==============================] - 52s 7s/step - loss: 0.0306 - accuracy: 0.9885 - val_loss: 0.0542 - val_accuracy: 0.9844\n",
            "Epoch 116/120\n",
            "7/7 [==============================] - 50s 7s/step - loss: 0.0339 - accuracy: 0.9880 - val_loss: 0.0670 - val_accuracy: 0.9812\n",
            "Epoch 117/120\n",
            "7/7 [==============================] - 51s 7s/step - loss: 0.0425 - accuracy: 0.9864 - val_loss: 0.0481 - val_accuracy: 0.9869\n",
            "Epoch 118/120\n",
            "7/7 [==============================] - 52s 7s/step - loss: 0.0329 - accuracy: 0.9886 - val_loss: 0.0926 - val_accuracy: 0.9725\n",
            "Epoch 119/120\n",
            "7/7 [==============================] - 52s 7s/step - loss: 0.0342 - accuracy: 0.9885 - val_loss: 0.0748 - val_accuracy: 0.9775\n",
            "Epoch 120/120\n",
            "7/7 [==============================] - 51s 7s/step - loss: 0.0313 - accuracy: 0.9872 - val_loss: 0.0504 - val_accuracy: 0.9850\n"
          ]
        }
      ]
    },
    {
      "cell_type": "code",
      "source": [
        "#plotting the training + validation acurracy graphs to analyze what happened\n",
        "acc = history.history['accuracy']\n",
        "val_acc = history.history['val_accuracy']\n",
        "\n",
        "loss = history.history['loss']\n",
        "val_loss = history.history['val_loss']\n",
        "\n",
        "epochs_range = range(epochs)\n",
        "\n",
        "plt.figure(figsize=(8, 8))\n",
        "plt.subplot(1, 2, 1)\n",
        "plt.plot(epochs_range, acc, label='Training Accuracy')\n",
        "plt.plot(epochs_range, val_acc, label='Validation Accuracy')\n",
        "plt.legend(loc='lower right')\n",
        "plt.title('Training and Validation Accuracy')\n",
        "\n",
        "plt.subplot(1, 2, 2)\n",
        "plt.plot(epochs_range, loss, label='Training Loss')\n",
        "plt.plot(epochs_range, val_loss, label='Validation Loss')\n",
        "plt.legend(loc='upper right')\n",
        "plt.title('Training and Validation Loss')\n",
        "plt.show()"
      ],
      "metadata": {
        "id": "b-2NTDlEtFVu",
        "colab": {
          "base_uri": "https://localhost:8080/",
          "height": 499
        },
        "outputId": "91e04929-bf4a-4014-f528-aba0fad4caea"
      },
      "execution_count": null,
      "outputs": [
        {
          "output_type": "display_data",
          "data": {
            "text/plain": [
              "<Figure size 576x576 with 2 Axes>"
            ],
            "image/png": "[encoded data removed]"
          },
          "metadata": {
            "needs_background": "light"
          }
        }
      ]
    }
  ]
}